{
 "cells": [
  {
   "cell_type": "code",
   "execution_count": 12,
   "metadata": {},
   "outputs": [
    {
     "name": "stdout",
     "output_type": "stream",
     "text": [
      "5 patinhos foram passear, além das montanhas para brincar. A mamãe gritou: quá, quá, quá, quá, quá. Mas só 5 patinhos voltaram de lá\n",
      "5 patinhos foram passear, além das montanhas para brincar. A mamãe gritou: quá, quá, quá, quá, quá. Mas só 4 patinhos voltaram de lá\n",
      "5 patinhos foram passear, além das montanhas para brincar. A mamãe gritou: quá, quá, quá, quá, quá. Mas só 3 patinhos voltaram de lá\n",
      "5 patinhos foram passear, além das montanhas para brincar. A mamãe gritou: quá, quá, quá, quá, quá. Mas só 2 patinhos voltaram de lá\n",
      "5 patinhos foram passear, além das montanhas para brincar. A mamãe gritou: quá, quá, quá, quá, quá. Mas só 1 patinhos voltaram de lá\n",
      "5 patinhos foram passear, além das montanhas para brincar. A mamãe gritou: quá, quá, quá, quá, quá. Mas nenhum patinho voltou de lá\n"
     ]
    }
   ],
   "source": [
    "for patinhos in [5, 4, 3, 2, 1]:\n",
    "  print(\"5 patinhos foram passear, além das montanhas para brincar. A mamãe gritou: quá, quá, quá, quá, quá. Mas só\", patinhos, \"patinhos voltaram de lá\")\n",
    "print(\"5 patinhos foram passear, além das montanhas para brincar. A mamãe gritou: quá, quá, quá, quá, quá. Mas nenhum patinho voltou de lá\")\n",
    "  \n",
    "\n",
    "  "
   ]
  },
  {
   "cell_type": "code",
   "execution_count": 13,
   "metadata": {},
   "outputs": [
    {
     "name": "stdout",
     "output_type": "stream",
     "text": [
      "5 patinhos foram passear, além das montanhas para brincar. A mamãe gritou quá quá quá quá, mas só 4 voltaram de lá\n",
      "4 patinhos foram passear, além das montanhas para brincar. A mamãe gritou quá quá quá quá, mas só 3 voltaram de lá\n",
      "3 patinhos foram passear, além das montanhas para brincar. A mamãe gritou quá quá quá quá, mas só 2 voltaram de lá\n",
      "2 patinhos foram passear, além das montanhas para brincar. A mamãe gritou quá quá quá quá, mas só 1 voltaram de lá\n",
      "1 patinhos foram passear, além das montanhas para brincar. A mamãe gritou quá quá quá quá, mas só 0 voltaram de lá\n"
     ]
    }
   ],
   "source": [
    "#Numero de patinhos\n",
    "n = 5\n",
    "for n in[5,4,3,2,1]:\n",
    "    print (n, \"patinhos foram passear, além das montanhas para brincar. A mamãe gritou quá quá quá quá, mas só\", n-1, \"voltaram de lá\")"
   ]
  },
  {
   "cell_type": "code",
   "execution_count": 21,
   "metadata": {},
   "outputs": [
    {
     "name": "stdout",
     "output_type": "stream",
     "text": [
      "Tabuada de 99:\n",
      "99 x 1 = 99\n",
      "99 x 2 = 198\n",
      "99 x 3 = 297\n",
      "99 x 4 = 396\n",
      "99 x 5 = 495\n",
      "99 x 6 = 594\n",
      "99 x 7 = 693\n",
      "99 x 8 = 792\n",
      "99 x 9 = 891\n",
      "99 x 10 = 990\n"
     ]
    }
   ],
   "source": [
    "numero = int(input(\"Digite um número para ver a tabuada: \"))\n",
    "print(f\"Tabuada de {numero}:\")\n",
    "for i in range(1, 11):\n",
    "    resultado = numero * i\n",
    "    print(f\"{numero} x {i} = {resultado}\")\n",
    "\n"
   ]
  }
 ],
 "metadata": {
  "kernelspec": {
   "display_name": "Python 3",
   "language": "python",
   "name": "python3"
  },
  "language_info": {
   "codemirror_mode": {
    "name": "ipython",
    "version": 3
   },
   "file_extension": ".py",
   "mimetype": "text/x-python",
   "name": "python",
   "nbconvert_exporter": "python",
   "pygments_lexer": "ipython3",
   "version": "3.11.9"
  }
 },
 "nbformat": 4,
 "nbformat_minor": 2
}
